{
  "nbformat": 4,
  "nbformat_minor": 0,
  "metadata": {
    "colab": {
      "provenance": [],
      "authorship_tag": "ABX9TyPRm9/EpMCgMmlOdDnxHX4Z",
      "include_colab_link": true
    },
    "kernelspec": {
      "name": "python3",
      "display_name": "Python 3"
    },
    "language_info": {
      "name": "python"
    }
  },
  "cells": [
    {
      "cell_type": "markdown",
      "metadata": {
        "id": "view-in-github",
        "colab_type": "text"
      },
      "source": [
        "<a href=\"https://colab.research.google.com/github/Usha-125/Codsoft-AI/blob/main/Codsoft_ai_task_4.ipynb\" target=\"_parent\"><img src=\"https://colab.research.google.com/assets/colab-badge.svg\" alt=\"Open In Colab\"/></a>"
      ]
    },
    {
      "cell_type": "code",
      "execution_count": 1,
      "metadata": {
        "colab": {
          "base_uri": "https://localhost:8080/"
        },
        "id": "Sn3SLPPHvzlx",
        "outputId": "6fb6999f-e473-4e25-88c3-364e02f631a6"
      },
      "outputs": [
        {
          "output_type": "stream",
          "name": "stdout",
          "text": [
            "['KGF 1 AND 2', 'RRR', 'bahubali2']\n"
          ]
        }
      ],
      "source": [
        "import pandas as pd\n",
        "from scipy import spatial\n",
        "def cosine_similarity(user1, user2):\n",
        "    return 1 - spatial.distance.cosine(user1, user2)\n",
        "def weighted_average(ratings, weights):\n",
        "    return sum(rating * weight for rating, weight in zip(ratings, weights)) / sum(weights)\n",
        "user_ratings = pd.DataFrame({\n",
        "    'User1': [5, 4, 3, 2, 1],\n",
        "    'User2': [4, 5, 2, 3, 1],\n",
        "    'User3': [3, 2, 5, 4, 1],\n",
        "    'User4': [2, 3, 4, 5, 1],\n",
        "    'User5': [1, 2, 3, 4, 5]\n",
        "}, index=['bahubali 1', 'bahubali2', 'RRR', 'KGF 1 AND 2', 'KANTHARA'])\n",
        "\n",
        "def recommend_movies(user):\n",
        "\n",
        "    similarities = []\n",
        "    for other_user in user_ratings.columns:\n",
        "        if other_user != user:\n",
        "            similarity = cosine_similarity(user_ratings[user], user_ratings[other_user])\n",
        "            similarities.append((other_user, similarity))\n",
        "    similarities.sort(key=lambda x: x[1], reverse=True)\n",
        "    N = 3\n",
        "    similar_users = [user for user, similarity in similarities[:N]]\n",
        "    ratings = []\n",
        "    for movie in user_ratings.index:\n",
        "        weighted_sum = 0\n",
        "        sum_of_weights = 0\n",
        "        for similar_user, similarity in similarities[:N]:\n",
        "            weighted_sum += user_ratings.loc[movie, similar_user] * similarity\n",
        "            sum_of_weights += similarity\n",
        "        if sum_of_weights != 0:\n",
        "            ratings.append(weighted_sum / sum_of_weights)\n",
        "        else:\n",
        "            ratings.append(0)\n",
        "    M = 3\n",
        "    recommended_movies = sorted(zip(user_ratings.index, ratings), key=lambda x: x[1], reverse=True)[:M]\n",
        "    return [movie for movie, rating in recommended_movies]\n",
        "print(recommend_movies('User1'))\n"
      ]
    }
  ]
}