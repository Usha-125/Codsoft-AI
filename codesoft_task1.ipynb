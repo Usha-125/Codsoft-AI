{
  "cells": [
    {
      "cell_type": "markdown",
      "metadata": {
        "id": "view-in-github",
        "colab_type": "text"
      },
      "source": [
        "<a href=\"https://colab.research.google.com/github/Usha-125/Codsoft-AI/blob/main/codesoft_task1.ipynb\" target=\"_parent\"><img src=\"https://colab.research.google.com/assets/colab-badge.svg\" alt=\"Open In Colab\"/></a>"
      ]
    },
    {
      "cell_type": "code",
      "execution_count": null,
      "metadata": {
        "colab": {
          "base_uri": "https://localhost:8080/"
        },
        "id": "jfAhPQJRcrPC",
        "outputId": "06e6acb0-bcea-4c93-eb4a-2bd122284870"
      },
      "outputs": [
        {
          "output_type": "stream",
          "name": "stdout",
          "text": [
            "Welcome I am Chikki!\n",
            "You: cafe nearme\n",
            "Chikki:  Sorry, I didn't understand that.\n",
            "You: cafes near me\n",
            "Chikki:  cake bells,THE SMOOKAH CAFE AND RESTAURANT,Brew Stag Cafe,The Old House,Sitara Rooftop Cafe\n"
          ]
        }
      ],
      "source": [
        "import random\n",
        "import re\n",
        "intents = {\n",
        "    'greeting': {\n",
        "        'patterns': ['namaste','hello', 'hi', 'hey'],\n",
        "        'responses': ['Hello! How can I assist you?', 'Hi! What\\'s up?', 'Hey! what\\'s a query?']\n",
        "    },\n",
        "    'goodbye': {\n",
        "        'patterns': ['bye', 'see you later', 'goodbye'],\n",
        "        'responses': ['See you later!', 'Bye! Have a great day!', 'Goodbye!']\n",
        "    },\n",
        "    'help': {\n",
        "        'patterns': ['help', 'what can you do'],\n",
        "        'responses': ['I can assist you with basic queries. Try asking me something!', 'I can help with simple questions. What\\'s on your mind?']\n",
        "    },\n",
        "    'mysore':{\n",
        "        'patterns':['is mysore best place to stay'],\n",
        "        'responces':['yeah one of the most beautiful city!']\n",
        "    },\n",
        "    'places':{\n",
        "        'patterns':['places to vist in mysore'],\n",
        "        'responses':['Mysore Palace, Trinesvaraswamy Temple, Brindavan Gardens, St. Philomena\\'s Church, Lalitha Mahal Palace']\n",
        "    },\n",
        "    'schools':{'patterns':['good schools in mysore'],\n",
        "    'responses':['De Paul International Residential ,Pragathi International Residential Academy.Royale Concorde International SchoolAtomic Energy Central School, Kaiga']\n",
        "\n",
        "    },\n",
        "    'cafes':{'patterns':['cafes near me','best cafes in mysore','student friendly cafes'],\n",
        "             'responses':['cake bells,THE SMOOKAH CAFE AND RESTAURANT,Brew Stag Cafe,The Old House,Sitara Rooftop Cafe']\n",
        "\n",
        "}\n",
        "}\n",
        "\n",
        "def process_input(user_input):\n",
        "    user_input = user_input.lower()\n",
        "    for intent, patterns_responses in intents.items():\n",
        "        for pattern in patterns_responses['patterns']:\n",
        "            if pattern in user_input:\n",
        "                return random.choice(patterns_responses['responses'])\n",
        "    return 'Sorry, I didn\\'t understand that.'\n",
        "def chatbot():\n",
        "    print('Welcome I am Chikki!')\n",
        "    while True:\n",
        "        user_input = input('You: ')\n",
        "        response = process_input(user_input)\n",
        "        print('Chikki: ', response)\n",
        "        if response == 'See you later!':\n",
        "            break\n",
        "chatbot()"
      ]
    }
  ],
  "metadata": {
    "colab": {
      "provenance": [],
      "authorship_tag": "ABX9TyNGmRfAY+OZPdOr2ZKlLE6T",
      "include_colab_link": true
    },
    "kernelspec": {
      "display_name": "Python 3",
      "name": "python3"
    },
    "language_info": {
      "name": "python"
    }
  },
  "nbformat": 4,
  "nbformat_minor": 0
}